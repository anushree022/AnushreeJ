{
  "nbformat": 4,
  "nbformat_minor": 0,
  "metadata": {
    "colab": {
      "name": "test.ipynb",
      "provenance": [],
      "include_colab_link": true
    },
    "kernelspec": {
      "name": "python3",
      "display_name": "Python 3"
    }
  },
  "cells": [
    {
      "cell_type": "markdown",
      "metadata": {
        "id": "view-in-github",
        "colab_type": "text"
      },
      "source": [
        "<a href=\"https://colab.research.google.com/github/anushree022/Random-projects/blob/master/test.ipynb\" target=\"_parent\"><img src=\"https://colab.research.google.com/assets/colab-badge.svg\" alt=\"Open In Colab\"/></a>"
      ]
    },
    {
      "cell_type": "code",
      "metadata": {
        "id": "Jrj_qgzJpQf4",
        "colab_type": "code",
        "colab": {
          "base_uri": "https://localhost:8080/",
          "height": 55
        },
        "outputId": "ec7a483a-6f36-460f-852b-4b2fa5cd569a"
      },
      "source": [
        "# Load the Drive helper and mount\n",
        "from google.colab import drive\n",
        "\n",
        "# This will prompt for authorization.\n",
        "drive.mount('/content/drive')"
      ],
      "execution_count": null,
      "outputs": [
        {
          "output_type": "stream",
          "text": [
            "Drive already mounted at /content/drive; to attempt to forcibly remount, call drive.mount(\"/content/drive\", force_remount=True).\n"
          ],
          "name": "stdout"
        }
      ]
    },
    {
      "cell_type": "code",
      "metadata": {
        "id": "SJ1PJzGLp9vx",
        "colab_type": "code",
        "colab": {
          "base_uri": "https://localhost:8080/",
          "height": 35
        },
        "outputId": "27db407d-446d-48fb-c579-4dd2da7d4257"
      },
      "source": [
        "cd /content/drive/My Drive/Colab Notebooks/sample audio"
      ],
      "execution_count": null,
      "outputs": [
        {
          "output_type": "stream",
          "text": [
            "/content/drive/My Drive/Colab Notebooks/sample audio\n"
          ],
          "name": "stdout"
        }
      ]
    },
    {
      "cell_type": "code",
      "metadata": {
        "id": "91EYWVZlp-2g",
        "colab_type": "code",
        "colab": {
          "base_uri": "https://localhost:8080/",
          "height": 35
        },
        "outputId": "09ac9ec1-392e-4da6-b9cb-86caf15f1f84"
      },
      "source": [
        "!ls"
      ],
      "execution_count": null,
      "outputs": [
        {
          "output_type": "stream",
          "text": [
            "audio11.mp3  audio12.mp3  audio13.mp3  audio14.mp3  audio15.mp3\n"
          ],
          "name": "stdout"
        }
      ]
    },
    {
      "cell_type": "code",
      "metadata": {
        "id": "vGTk0W3KREei",
        "colab_type": "code",
        "colab": {}
      },
      "source": [
        "import librosa\n",
        "#from pysndfx import AudioEffectsChain\n",
        "import numpy as np\n",
        "import math\n",
        "#import python_speech_features\n",
        "import scipy as sp\n",
        "from scipy import signal\n"
      ],
      "execution_count": null,
      "outputs": []
    },
    {
      "cell_type": "code",
      "metadata": {
        "id": "YSGI74xQRPXU",
        "colab_type": "code",
        "colab": {}
      },
      "source": [
        "def read_file(file_name):\n",
        "    sample_file = file_name\n",
        "    sample_directory = '/content/drive/My Drive/Colab Notebooks/sample audio/'\n",
        "    #path='meeting audio.mp3'\n",
        "    #sound = AudioSegment.from_mp3(path)\n",
        "    #path = path.split('.')[0] + '.wav'\n",
        "    #sound.export(path,format='wav')\n",
        "    sample_path = sample_directory + sample_file\n",
        " \n",
        "    # generating audio time series and a sampling rate (int)\n",
        "    y, sr = librosa.load(sample_path)\n",
        " \n",
        "    return y, sr"
      ],
      "execution_count": null,
      "outputs": []
    },
    {
      "cell_type": "code",
      "metadata": {
        "id": "uRu0tDwBTYfG",
        "colab_type": "code",
        "colab": {}
      },
      "source": [
        "def reduce_noise_median(y, sr):\n",
        "    y = sp.signal.medfilt(y,3)\n",
        "    return (y)"
      ],
      "execution_count": null,
      "outputs": []
    },
    {
      "cell_type": "code",
      "metadata": {
        "id": "BIfwNGG-Um58",
        "colab_type": "code",
        "colab": {}
      },
      "source": [
        "def trim_silence(y):\n",
        "    y_trimmed, index = librosa.effects.trim(y, top_db=20, frame_length=2, hop_length=500)\n",
        "    trimmed_length = librosa.get_duration(y) - librosa.get_duration(y_trimmed)\n",
        "\n",
        "    return y_trimmed, trimmed_length\n"
      ],
      "execution_count": null,
      "outputs": []
    },
    {
      "cell_type": "code",
      "metadata": {
        "id": "W2bt9TRHUpu4",
        "colab_type": "code",
        "colab": {}
      },
      "source": [
        "def enhance(y):\n",
        "    apply_audio_effects = AudioEffectsChain().lowshelf(gain=10.0, frequency=260, slope=0.1).reverb(reverberance=25, hf_damping=5, room_scale=5, stereo_depth=50, pre_delay=20, wet_gain=0, wet_only=False)#.normalize()\n",
        "    y_enhanced = apply_audio_effects(y)\n",
        "\n",
        "    return y_enhanced\n"
      ],
      "execution_count": null,
      "outputs": []
    },
    {
      "cell_type": "code",
      "metadata": {
        "id": "KUTqPYumUxC8",
        "colab_type": "code",
        "colab": {}
      },
      "source": [
        "def output_file(destination ,filename, y, sr, ext=\"\"):\n",
        "    destination = destination + filename[:-4] + ext + '.wav'\n",
        "    librosa.output.write_wav(destination, y, sr)"
      ],
      "execution_count": null,
      "outputs": []
    },
    {
      "cell_type": "code",
      "metadata": {
        "id": "2yAF4TFGVBUQ",
        "colab_type": "code",
        "colab": {}
      },
      "source": [
        "samples=['audio11.mp3','audio12.mp3','audio13.mp3','audio14.mp3','audio15.mp3']\n",
        "for s in samples:\n",
        "    # reading a file\n",
        "    filename = s\n",
        "    y, sr = read_file(filename)\n",
        "\n",
        "    y_reduced_median = reduce_noise_median(y, sr)\n",
        "\n",
        "    \n",
        "    \n",
        "\n",
        "\n",
        "\n"
      ],
      "execution_count": null,
      "outputs": []
    },
    {
      "cell_type": "code",
      "metadata": {
        "id": "F8pYhmjRvx94",
        "colab_type": "code",
        "colab": {
          "base_uri": "https://localhost:8080/",
          "height": 52
        },
        "outputId": "78a7929a-2b2a-468d-93bb-804bd1da4c8a"
      },
      "source": [
        "y_reduced_median"
      ],
      "execution_count": null,
      "outputs": [
        {
          "output_type": "execute_result",
          "data": {
            "text/plain": [
              "array([0.        , 0.        , 0.        , ..., 0.01655751, 0.01655751,\n",
              "       0.        ])"
            ]
          },
          "metadata": {
            "tags": []
          },
          "execution_count": 108
        }
      ]
    }
  ]
}